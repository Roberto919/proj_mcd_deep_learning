{
 "cells": [
  {
   "cell_type": "markdown",
   "metadata": {},
   "source": [
    "#  Proyecto: predicción de precios de casas\n",
    "\n",
    "**Equipo: XX;  \n",
    "Integrantes: A,B,C;  \n",
    "Claves únicas: CU-A, CU-B, CU-C.**\n",
    "\n",
    "Inicio 22/02/2021, Entrega 03/03/2021 a las 2:30pm por correo electrónico identificandolo con `[DL-2021] Equipo XX`.\n",
    "\n",
    "En este mini proyecto vamos a construir un modelo de predicción de precios de ventas de casas. Los datos son de \n",
    "una competencia en [Kaggle](https://www.kaggle.com/c/house-prices-advanced-regression-techniques). El código incluido se encarga de descargar los datos, construir un modelo base y dejar los resultados en el formato de entrega. \n",
    "Lo que tendrán que hacer es\n",
    "\n",
    "1. Desarrollar un mejor modelo predictivo. Encontrarás algunas pistas al final de este archivo. \n",
    "1. Hacer la entrega de tus resultados en Kaggle y obtener una captura de pantalla del _score_ de tus respuestas. \n",
    "\n",
    "<!--  Por favor incorpora impresion de pantalla de su puntaje -->\n",
    "![](score.png)\n",
    "\n",
    "Algunos puntos a considerar:\n",
    "\n",
    "1. Comiencen lo mas pronto posible. El proceso de selección de hiper-parámetros es tardado y Kaggle sólo acepta un número limitado de entregas al día.\n",
    "1. Trabajen en equipo. \n",
    "\n",
    "La calificación dependerá del lugar que ocupen dentro del _Leaderboard_ en relación con los demás equipos de la clase."
   ]
  },
  {
   "cell_type": "markdown",
   "metadata": {},
   "source": [
    "## Importando librerías y módulos"
   ]
  },
  {
   "cell_type": "markdown",
   "metadata": {},
   "source": [
    "#### Standard library imports"
   ]
  },
  {
   "cell_type": "code",
   "execution_count": 1,
   "metadata": {
    "ExecuteTime": {
     "end_time": "2021-03-02T18:27:27.945629Z",
     "start_time": "2021-03-02T18:27:27.853592Z"
    },
    "init_cell": true
   },
   "outputs": [],
   "source": [
    "import os\n",
    "import requests\n",
    "import zipfile\n",
    "import tarfile\n",
    "import hashlib\n",
    "import sys\n",
    "import json"
   ]
  },
  {
   "cell_type": "markdown",
   "metadata": {
    "ExecuteTime": {
     "end_time": "2021-02-28T19:29:26.919500Z",
     "start_time": "2021-02-28T19:29:26.913625Z"
    }
   },
   "source": [
    "#### Third party imports"
   ]
  },
  {
   "cell_type": "code",
   "execution_count": 2,
   "metadata": {
    "ExecuteTime": {
     "end_time": "2021-03-02T18:27:31.725877Z",
     "start_time": "2021-03-02T18:27:27.948157Z"
    },
    "attributes": {
     "classes": [],
     "id": "",
     "n": "3"
    },
    "init_cell": true,
    "scrolled": true
   },
   "outputs": [],
   "source": [
    "%matplotlib inline\n",
    "# %config Completer.use_jedi = False\n",
    "\n",
    "from d2l import tensorflow as d2l\n",
    "import tensorflow as tf\n",
    "import pandas as pd\n",
    "import numpy as np\n",
    "from sklearn.compose import ColumnTransformer"
   ]
  },
  {
   "cell_type": "markdown",
   "metadata": {},
   "source": [
    "#### Local application imports"
   ]
  },
  {
   "cell_type": "code",
   "execution_count": 3,
   "metadata": {
    "ExecuteTime": {
     "end_time": "2021-03-02T18:27:31.731413Z",
     "start_time": "2021-03-02T18:27:31.728446Z"
    },
    "init_cell": true
   },
   "outputs": [],
   "source": [
    "sys.path.append(\"../../\")"
   ]
  },
  {
   "cell_type": "code",
   "execution_count": 4,
   "metadata": {
    "ExecuteTime": {
     "end_time": "2021-03-02T18:27:31.790474Z",
     "start_time": "2021-03-02T18:27:31.733924Z"
    },
    "init_cell": true
   },
   "outputs": [],
   "source": [
    "%load_ext autoreload\n",
    "%autoreload 2\n",
    "\n",
    "from utils.rob.dlp_ml import(\n",
    "    loss,\n",
    "    k,\n",
    "    num_epochs,\n",
    "    lr,\n",
    "    weight_decay,\n",
    "    batch_size,\n",
    "    \n",
    "    num_pipeline,\n",
    "    cat_pipeline,\n",
    "    \n",
    "    get_net,\n",
    "    log_rmse,\n",
    "    train,\n",
    "    get_k_fold_data,\n",
    "    k_fold,\n",
    "    train_and_pred\n",
    ")\n",
    "\n",
    "from utils.rob.dlp_params import (\n",
    "    features_dict\n",
    ")\n",
    "\n",
    "from utils.rob.dlp_funcs import (\n",
    "    clean_data,\n",
    "    transform_target_var,\n",
    "    features_to_pipes,\n",
    "    features_dictrionary\n",
    ")"
   ]
  },
  {
   "cell_type": "code",
   "execution_count": 5,
   "metadata": {
    "ExecuteTime": {
     "end_time": "2021-03-02T18:27:31.842784Z",
     "start_time": "2021-03-02T18:27:31.791977Z"
    },
    "init_cell": true
   },
   "outputs": [
    {
     "data": {
      "text/plain": [
       "'SalePrice'"
      ]
     },
     "execution_count": 5,
     "metadata": {},
     "output_type": "execute_result"
    }
   ],
   "source": [
    "## Name of feature that will be predicted\n",
    "for feat in features_dict:\n",
    "    if features_dict[feat][\"ml_label\"] == True:\n",
    "        predict_feature = feat\n",
    "\n",
    "predict_feature"
   ]
  },
  {
   "cell_type": "markdown",
   "metadata": {},
   "source": [
    "---"
   ]
  },
  {
   "cell_type": "markdown",
   "metadata": {},
   "source": [
    "## Descargando y leyendo los datos"
   ]
  },
  {
   "cell_type": "code",
   "execution_count": 6,
   "metadata": {
    "ExecuteTime": {
     "end_time": "2021-03-02T18:27:31.892691Z",
     "start_time": "2021-03-02T18:27:31.844493Z"
    },
    "init_cell": true
   },
   "outputs": [],
   "source": [
    "DATA_HUB = dict()\n",
    "DATA_URL = 'http://d2l-data.s3-accelerate.amazonaws.com/'"
   ]
  },
  {
   "cell_type": "code",
   "execution_count": 7,
   "metadata": {
    "ExecuteTime": {
     "end_time": "2021-03-02T18:27:31.943791Z",
     "start_time": "2021-03-02T18:27:31.894002Z"
    },
    "init_cell": true
   },
   "outputs": [],
   "source": [
    "def download(name, cache_dir=os.path.join('.', 'data')):  #@save\n",
    "    \"\"\"Download a file inserted into DATA_HUB, return the local filename.\"\"\"\n",
    "    assert name in DATA_HUB, f\"{name} does not exist in {DATA_HUB}.\"\n",
    "    url, sha1_hash = DATA_HUB[name]\n",
    "    os.makedirs(cache_dir, exist_ok=True)\n",
    "    fname = os.path.join(cache_dir, url.split('/')[-1])\n",
    "    if os.path.exists(fname):\n",
    "        sha1 = hashlib.sha1()\n",
    "        with open(fname, 'rb') as f:\n",
    "            while True:\n",
    "                data = f.read(1048576)\n",
    "                if not data:\n",
    "                    break\n",
    "                sha1.update(data)\n",
    "        if sha1.hexdigest() == sha1_hash:\n",
    "            return fname  # Hit cache\n",
    "    print(f'Downloading {fname} from {url}...')\n",
    "    r = requests.get(url, stream=True, verify=True)\n",
    "    with open(fname, 'wb') as f:\n",
    "        f.write(r.content)\n",
    "    return fname\n"
   ]
  },
  {
   "cell_type": "markdown",
   "metadata": {},
   "source": [
    "Lo siguiente se encargará de definir la ruta de dónde extraer los datos. "
   ]
  },
  {
   "cell_type": "code",
   "execution_count": 8,
   "metadata": {
    "ExecuteTime": {
     "end_time": "2021-03-02T18:27:31.991570Z",
     "start_time": "2021-03-02T18:27:31.947161Z"
    },
    "init_cell": true
   },
   "outputs": [],
   "source": [
    "DATA_HUB['kaggle_house_train'] = (  \n",
    "    DATA_URL + 'kaggle_house_pred_train.csv',\n",
    "    '585e9cc93e70b39160e7921475f9bcd7d31219ce')\n",
    "\n",
    "DATA_HUB['kaggle_house_test'] = (  \n",
    "    DATA_URL + 'kaggle_house_pred_test.csv',\n",
    "    'fa19780a7b011d9b009e8bff8e99922a8ee2eb90')"
   ]
  },
  {
   "cell_type": "code",
   "execution_count": 9,
   "metadata": {
    "ExecuteTime": {
     "end_time": "2021-03-02T18:27:32.080995Z",
     "start_time": "2021-03-02T18:27:31.993451Z"
    },
    "attributes": {
     "classes": [],
     "id": "",
     "n": "14"
    },
    "init_cell": true
   },
   "outputs": [],
   "source": [
    "train_data = pd.read_csv(download('kaggle_house_train'))\n",
    "test_data = pd.read_csv(download('kaggle_house_test'))"
   ]
  },
  {
   "cell_type": "code",
   "execution_count": null,
   "metadata": {
    "ExecuteTime": {
     "end_time": "2021-03-02T02:29:04.387915Z",
     "start_time": "2021-03-02T02:29:04.309415Z"
    }
   },
   "outputs": [],
   "source": [
    "train_data"
   ]
  },
  {
   "cell_type": "markdown",
   "metadata": {},
   "source": [
    "---"
   ]
  },
  {
   "cell_type": "markdown",
   "metadata": {},
   "source": [
    "## Tratamiento de los datos"
   ]
  },
  {
   "cell_type": "markdown",
   "metadata": {},
   "source": [
    "### Limpieza inicial"
   ]
  },
  {
   "cell_type": "markdown",
   "metadata": {},
   "source": [
    "#### Datos de entrenamiento"
   ]
  },
  {
   "cell_type": "code",
   "execution_count": null,
   "metadata": {
    "ExecuteTime": {
     "end_time": "2021-03-02T02:29:04.507437Z",
     "start_time": "2021-03-02T02:29:04.389708Z"
    }
   },
   "outputs": [],
   "source": [
    "## Cleaning data based on definitions dictionary.\n",
    "housingc = clean_data(train_data)\n",
    "\n",
    "## Adding training labels to cleaned data.\n",
    "housingc = housingc.join(train_data[predict_feature])\n",
    "\n",
    "## Transforming the target variable\n",
    "housingc = transform_target_var(housingc)\n",
    "\n",
    "## Training labels\n",
    "housingc_labs = housingc[predict_feature]\n",
    "\n",
    "## Training data\n",
    "housingc.drop(predict_feature, axis=1, inplace=True)"
   ]
  },
  {
   "cell_type": "markdown",
   "metadata": {},
   "source": [
    "#### Datos de prueba"
   ]
  },
  {
   "cell_type": "code",
   "execution_count": null,
   "metadata": {
    "ExecuteTime": {
     "end_time": "2021-03-02T02:29:04.620342Z",
     "start_time": "2021-03-02T02:29:04.509011Z"
    },
    "scrolled": true
   },
   "outputs": [],
   "source": [
    "## Cleaning data based on definitions dictionary.\n",
    "housingc_test = clean_data(test_data)"
   ]
  },
  {
   "cell_type": "markdown",
   "metadata": {},
   "source": [
    "### Procesamiento usando pipelines"
   ]
  },
  {
   "cell_type": "code",
   "execution_count": null,
   "metadata": {
    "ExecuteTime": {
     "end_time": "2021-03-02T02:29:04.666039Z",
     "start_time": "2021-03-02T02:29:04.621783Z"
    }
   },
   "outputs": [],
   "source": [
    "housingc_num, housingc_cat = features_to_pipes(features_dict)"
   ]
  },
  {
   "cell_type": "code",
   "execution_count": null,
   "metadata": {
    "ExecuteTime": {
     "end_time": "2021-03-02T02:29:04.717295Z",
     "start_time": "2021-03-02T02:29:04.671769Z"
    }
   },
   "outputs": [],
   "source": [
    "full_pipeline = ColumnTransformer([\n",
    "    (\"num\", num_pipeline, housingc_num),\n",
    "    (\"cat\", cat_pipeline, housingc_cat),\n",
    "])"
   ]
  },
  {
   "cell_type": "markdown",
   "metadata": {},
   "source": [
    "#### Datos de entrenamiento"
   ]
  },
  {
   "cell_type": "code",
   "execution_count": null,
   "metadata": {
    "ExecuteTime": {
     "end_time": "2021-03-02T02:29:04.803825Z",
     "start_time": "2021-03-02T02:29:04.719541Z"
    }
   },
   "outputs": [],
   "source": [
    "housingc_prp = full_pipeline.fit_transform(housingc)\n",
    "\n",
    "train_features = tf.constant(housingc_prp, dtype=tf.float32)\n",
    "\n",
    "train_labels = tf.constant(housingc_labs, dtype=tf.float32)"
   ]
  },
  {
   "cell_type": "markdown",
   "metadata": {},
   "source": [
    "#### Datos de prueba"
   ]
  },
  {
   "cell_type": "code",
   "execution_count": null,
   "metadata": {
    "ExecuteTime": {
     "end_time": "2021-03-02T02:29:04.888610Z",
     "start_time": "2021-03-02T02:29:04.805746Z"
    }
   },
   "outputs": [],
   "source": [
    "housingc_prp = full_pipeline.fit_transform(housingc_test)\n",
    "\n",
    "test_features = tf.constant(housingc_prp, dtype=tf.float32)"
   ]
  },
  {
   "cell_type": "markdown",
   "metadata": {},
   "source": [
    "## Entrenamiento"
   ]
  },
  {
   "cell_type": "code",
   "execution_count": null,
   "metadata": {
    "ExecuteTime": {
     "end_time": "2021-03-02T02:29:38.745964Z",
     "start_time": "2021-03-02T02:29:04.890109Z"
    }
   },
   "outputs": [],
   "source": [
    "train_l, valid_l = k_fold(k, train_features, train_labels, num_epochs, lr, weight_decay, batch_size)\n",
    "\n",
    "print(f'{k}-fold validation: avg train log rmse: {float(train_l):f}, '\n",
    "      f'avg valid log rmse: {float(valid_l):f}')"
   ]
  },
  {
   "cell_type": "markdown",
   "metadata": {},
   "source": [
    "---"
   ]
  },
  {
   "cell_type": "markdown",
   "metadata": {},
   "source": [
    "## Predicción"
   ]
  },
  {
   "cell_type": "code",
   "execution_count": null,
   "metadata": {
    "ExecuteTime": {
     "end_time": "2021-03-02T02:29:47.041372Z",
     "start_time": "2021-03-02T02:29:38.747728Z"
    },
    "scrolled": true
   },
   "outputs": [],
   "source": [
    "train_and_pred(train_features, test_features, train_labels, test_data, num_epochs, lr, weight_decay, batch_size)"
   ]
  },
  {
   "cell_type": "raw",
   "metadata": {
    "ExecuteTime": {
     "end_time": "2021-03-02T02:03:32.022017Z",
     "start_time": "2021-03-02T02:03:31.976823Z"
    }
   },
   "source": [
    "str(housingc[\"LotFrontage\"].dtype)"
   ]
  },
  {
   "cell_type": "raw",
   "metadata": {
    "ExecuteTime": {
     "end_time": "2021-03-02T02:04:29.009609Z",
     "start_time": "2021-03-02T02:04:28.953163Z"
    }
   },
   "source": [
    "l2 = [{col: list(housingc[col].unique())} for col in housingc if str(housingc[col].dtype) == \"category\"]"
   ]
  },
  {
   "cell_type": "raw",
   "metadata": {
    "ExecuteTime": {
     "end_time": "2021-03-02T02:04:55.684562Z",
     "start_time": "2021-03-02T02:04:55.624082Z"
    }
   },
   "source": [
    "l1 = [{col: list(housingc_test[col].unique())} for col in housingc_test if str(housingc_test[col].dtype) == \"category\"]\n",
    "\n",
    "l1"
   ]
  },
  {
   "cell_type": "raw",
   "metadata": {
    "ExecuteTime": {
     "end_time": "2021-03-02T02:04:35.445259Z",
     "start_time": "2021-03-02T02:04:35.390999Z"
    }
   },
   "source": [
    "set(l1) - set(l2)"
   ]
  },
  {
   "cell_type": "raw",
   "metadata": {
    "ExecuteTime": {
     "end_time": "2021-03-02T02:00:16.030050Z",
     "start_time": "2021-03-02T02:00:15.940897Z"
    }
   },
   "source": [
    "housingc_test"
   ]
  },
  {
   "cell_type": "markdown",
   "metadata": {},
   "source": [
    "---"
   ]
  },
  {
   "cell_type": "markdown",
   "metadata": {},
   "source": [
    "## Notas"
   ]
  },
  {
   "cell_type": "markdown",
   "metadata": {},
   "source": [
    "#### Estudio de los features en gral"
   ]
  },
  {
   "cell_type": "code",
   "execution_count": 16,
   "metadata": {
    "ExecuteTime": {
     "end_time": "2021-03-02T18:28:47.500417Z",
     "start_time": "2021-03-02T18:28:47.456512Z"
    }
   },
   "outputs": [],
   "source": [
    "lx = [\"SalePrice\", \"OverallQual\",\n",
    "\"GrLivArea\",\n",
    "\"GarageCars\",\n",
    "\"GarageArea\",\n",
    "\"TotalBsmtSF\",\n",
    "\"1stFlrSF\",\n",
    "\"FullBath\",\n",
    "\"YearBuilt\",\n",
    "\"YearRemodAdd\",\n",
    "\"GarageYrBlt\",\n",
    "\"TotRmsAbvGrd\",\n",
    "\"Fireplaces\",\n",
    "\"MasVnrArea\",\n",
    "\"BsmtFinSF1\",\n",
    "\"LotFrontage\",\n",
    "\"WoodDeckSF\",\n",
    "\"OpenPorchSF\",\n",
    "\"2ndFlrSF\",\n",
    "\"HalfBath\"]"
   ]
  },
  {
   "cell_type": "code",
   "execution_count": 22,
   "metadata": {
    "ExecuteTime": {
     "end_time": "2021-03-02T18:29:43.125461Z",
     "start_time": "2021-03-02T18:29:43.080280Z"
    }
   },
   "outputs": [
    {
     "data": {
      "text/plain": [
       "20"
      ]
     },
     "execution_count": 22,
     "metadata": {},
     "output_type": "execute_result"
    }
   ],
   "source": [
    "len(lx)"
   ]
  },
  {
   "cell_type": "code",
   "execution_count": 17,
   "metadata": {
    "ExecuteTime": {
     "end_time": "2021-03-02T18:28:49.536770Z",
     "start_time": "2021-03-02T18:28:49.476411Z"
    }
   },
   "outputs": [
    {
     "data": {
      "text/plain": [
       "{'Id': {'relevant': False,\n",
       "  'data_default_type': 'int64',\n",
       "  'data_obj_type': 'int64',\n",
       "  'ml_label': False,\n",
       "  'pipeline': 'num_pipe'},\n",
       " 'MSSubClass': {'relevant': False,\n",
       "  'data_default_type': 'int64',\n",
       "  'data_obj_type': 'int64',\n",
       "  'ml_label': False,\n",
       "  'pipeline': 'num_pipe'},\n",
       " 'MSZoning': {'relevant': True,\n",
       "  'data_default_type': 'object',\n",
       "  'data_obj_type': 'category',\n",
       "  'ml_label': False,\n",
       "  'pipeline': 'cat_pipe'},\n",
       " 'LotFrontage': {'relevant': False,\n",
       "  'data_default_type': 'float64',\n",
       "  'data_obj_type': 'float64',\n",
       "  'ml_label': False,\n",
       "  'pipeline': 'num_pipe'},\n",
       " 'LotArea': {'relevant': True,\n",
       "  'data_default_type': 'int64',\n",
       "  'data_obj_type': 'int64',\n",
       "  'ml_label': False,\n",
       "  'pipeline': 'num_pipe'},\n",
       " 'Street': {'relevant': False,\n",
       "  'data_default_type': 'object',\n",
       "  'data_obj_type': 'category',\n",
       "  'ml_label': False,\n",
       "  'pipeline': 'cat_pipe'},\n",
       " 'Alley': {'relevant': False,\n",
       "  'data_default_type': 'object',\n",
       "  'data_obj_type': 'category',\n",
       "  'ml_label': False,\n",
       "  'pipeline': 'cat_pipe'},\n",
       " 'LotShape': {'relevant': True,\n",
       "  'data_default_type': 'object',\n",
       "  'data_obj_type': 'category',\n",
       "  'ml_label': False,\n",
       "  'pipeline': 'cat_pipe'},\n",
       " 'LandContour': {'relevant': True,\n",
       "  'data_default_type': 'object',\n",
       "  'data_obj_type': 'category',\n",
       "  'ml_label': False,\n",
       "  'pipeline': 'cat_pipe'},\n",
       " 'Utilities': {'relevant': True,\n",
       "  'data_default_type': 'object',\n",
       "  'data_obj_type': 'category',\n",
       "  'ml_label': False,\n",
       "  'pipeline': 'cat_pipe'},\n",
       " 'LotConfig': {'relevant': True,\n",
       "  'data_default_type': 'object',\n",
       "  'data_obj_type': 'category',\n",
       "  'ml_label': False,\n",
       "  'pipeline': 'cat_pipe'},\n",
       " 'LandSlope': {'relevant': True,\n",
       "  'data_default_type': 'object',\n",
       "  'data_obj_type': 'category',\n",
       "  'ml_label': False,\n",
       "  'pipeline': 'cat_pipe'},\n",
       " 'Neighborhood': {'relevant': True,\n",
       "  'data_default_type': 'object',\n",
       "  'data_obj_type': 'category',\n",
       "  'ml_label': False,\n",
       "  'pipeline': 'cat_pipe'},\n",
       " 'Condition1': {'relevant': True,\n",
       "  'data_default_type': 'object',\n",
       "  'data_obj_type': 'category',\n",
       "  'ml_label': False,\n",
       "  'pipeline': 'cat_pipe'},\n",
       " 'Condition2': {'relevant': True,\n",
       "  'data_default_type': 'object',\n",
       "  'data_obj_type': 'category',\n",
       "  'ml_label': False,\n",
       "  'pipeline': 'cat_pipe'},\n",
       " 'BldgType': {'relevant': True,\n",
       "  'data_default_type': 'object',\n",
       "  'data_obj_type': 'category',\n",
       "  'ml_label': False,\n",
       "  'pipeline': 'cat_pipe'},\n",
       " 'HouseStyle': {'relevant': True,\n",
       "  'data_default_type': 'object',\n",
       "  'data_obj_type': 'category',\n",
       "  'ml_label': False,\n",
       "  'pipeline': 'cat_pipe'},\n",
       " 'OverallQual': {'relevant': True,\n",
       "  'data_default_type': 'int64',\n",
       "  'data_obj_type': 'int64',\n",
       "  'ml_label': False,\n",
       "  'pipeline': 'num_pipe'},\n",
       " 'OverallCond': {'relevant': True,\n",
       "  'data_default_type': 'int64',\n",
       "  'data_obj_type': 'int64',\n",
       "  'ml_label': False,\n",
       "  'pipeline': 'num_pipe'},\n",
       " 'YearBuilt': {'relevant': True,\n",
       "  'data_default_type': 'int64',\n",
       "  'data_obj_type': 'int64',\n",
       "  'ml_label': False,\n",
       "  'pipeline': 'num_pipe'},\n",
       " 'YearRemodAdd': {'relevant': True,\n",
       "  'data_default_type': 'int64',\n",
       "  'data_obj_type': 'int64',\n",
       "  'ml_label': False,\n",
       "  'pipeline': 'num_pipe'},\n",
       " 'RoofStyle': {'relevant': True,\n",
       "  'data_default_type': 'object',\n",
       "  'data_obj_type': 'category',\n",
       "  'ml_label': False,\n",
       "  'pipeline': 'cat_pipe'},\n",
       " 'RoofMatl': {'relevant': True,\n",
       "  'data_default_type': 'object',\n",
       "  'data_obj_type': 'category',\n",
       "  'ml_label': False,\n",
       "  'pipeline': 'cat_pipe'},\n",
       " 'Exterior1st': {'relevant': True,\n",
       "  'data_default_type': 'object',\n",
       "  'data_obj_type': 'category',\n",
       "  'ml_label': False,\n",
       "  'pipeline': 'cat_pipe'},\n",
       " 'Exterior2nd': {'relevant': True,\n",
       "  'data_default_type': 'object',\n",
       "  'data_obj_type': 'category',\n",
       "  'ml_label': False,\n",
       "  'pipeline': 'cat_pipe'},\n",
       " 'MasVnrType': {'relevant': True,\n",
       "  'data_default_type': 'object',\n",
       "  'data_obj_type': 'category',\n",
       "  'ml_label': False,\n",
       "  'pipeline': 'cat_pipe'},\n",
       " 'MasVnrArea': {'relevant': True,\n",
       "  'data_default_type': 'float64',\n",
       "  'data_obj_type': 'float64',\n",
       "  'ml_label': False,\n",
       "  'pipeline': 'num_pipe'},\n",
       " 'ExterQual': {'relevant': True,\n",
       "  'data_default_type': 'object',\n",
       "  'data_obj_type': 'category',\n",
       "  'ml_label': False,\n",
       "  'pipeline': 'cat_pipe'},\n",
       " 'ExterCond': {'relevant': True,\n",
       "  'data_default_type': 'object',\n",
       "  'data_obj_type': 'category',\n",
       "  'ml_label': False,\n",
       "  'pipeline': 'cat_pipe'},\n",
       " 'Foundation': {'relevant': True,\n",
       "  'data_default_type': 'object',\n",
       "  'data_obj_type': 'category',\n",
       "  'ml_label': False,\n",
       "  'pipeline': 'cat_pipe'},\n",
       " 'BsmtQual': {'relevant': True,\n",
       "  'data_default_type': 'object',\n",
       "  'data_obj_type': 'category',\n",
       "  'ml_label': False,\n",
       "  'pipeline': 'cat_pipe'},\n",
       " 'BsmtCond': {'relevant': True,\n",
       "  'data_default_type': 'object',\n",
       "  'data_obj_type': 'category',\n",
       "  'ml_label': False,\n",
       "  'pipeline': 'cat_pipe'},\n",
       " 'BsmtExposure': {'relevant': True,\n",
       "  'data_default_type': 'object',\n",
       "  'data_obj_type': 'category',\n",
       "  'ml_label': False,\n",
       "  'pipeline': 'cat_pipe'},\n",
       " 'BsmtFinType1': {'relevant': True,\n",
       "  'data_default_type': 'object',\n",
       "  'data_obj_type': 'category',\n",
       "  'ml_label': False,\n",
       "  'pipeline': 'cat_pipe'},\n",
       " 'BsmtFinSF1': {'relevant': True,\n",
       "  'data_default_type': 'int64',\n",
       "  'data_obj_type': 'int64',\n",
       "  'ml_label': False,\n",
       "  'pipeline': 'num_pipe'},\n",
       " 'BsmtFinType2': {'relevant': True,\n",
       "  'data_default_type': 'object',\n",
       "  'data_obj_type': 'category',\n",
       "  'ml_label': False,\n",
       "  'pipeline': 'cat_pipe'},\n",
       " 'BsmtFinSF2': {'relevant': True,\n",
       "  'data_default_type': 'int64',\n",
       "  'data_obj_type': 'int64',\n",
       "  'ml_label': False,\n",
       "  'pipeline': 'num_pipe'},\n",
       " 'BsmtUnfSF': {'relevant': True,\n",
       "  'data_default_type': 'int64',\n",
       "  'data_obj_type': 'int64',\n",
       "  'ml_label': False,\n",
       "  'pipeline': 'num_pipe'},\n",
       " 'TotalBsmtSF': {'relevant': True,\n",
       "  'data_default_type': 'int64',\n",
       "  'data_obj_type': 'int64',\n",
       "  'ml_label': False,\n",
       "  'pipeline': 'num_pipe'},\n",
       " 'Heating': {'relevant': True,\n",
       "  'data_default_type': 'object',\n",
       "  'data_obj_type': 'category',\n",
       "  'ml_label': False,\n",
       "  'pipeline': 'cat_pipe'},\n",
       " 'HeatingQC': {'relevant': True,\n",
       "  'data_default_type': 'object',\n",
       "  'data_obj_type': 'category',\n",
       "  'ml_label': False,\n",
       "  'pipeline': 'cat_pipe'},\n",
       " 'CentralAir': {'relevant': True,\n",
       "  'data_default_type': 'object',\n",
       "  'data_obj_type': 'category',\n",
       "  'ml_label': False,\n",
       "  'pipeline': 'cat_pipe'},\n",
       " 'Electrical': {'relevant': True,\n",
       "  'data_default_type': 'object',\n",
       "  'data_obj_type': 'category',\n",
       "  'ml_label': False,\n",
       "  'pipeline': 'cat_pipe'},\n",
       " '1stFlrSF': {'relevant': True,\n",
       "  'data_default_type': 'int64',\n",
       "  'data_obj_type': 'int64',\n",
       "  'ml_label': False,\n",
       "  'pipeline': 'num_pipe'},\n",
       " '2ndFlrSF': {'relevant': True,\n",
       "  'data_default_type': 'int64',\n",
       "  'data_obj_type': 'int64',\n",
       "  'ml_label': False,\n",
       "  'pipeline': 'num_pipe'},\n",
       " 'LowQualFinSF': {'relevant': True,\n",
       "  'data_default_type': 'int64',\n",
       "  'data_obj_type': 'int64',\n",
       "  'ml_label': False,\n",
       "  'pipeline': 'num_pipe'},\n",
       " 'GrLivArea': {'relevant': True,\n",
       "  'data_default_type': 'int64',\n",
       "  'data_obj_type': 'int64',\n",
       "  'ml_label': False,\n",
       "  'pipeline': 'num_pipe'},\n",
       " 'BsmtFullBath': {'relevant': True,\n",
       "  'data_default_type': 'int64',\n",
       "  'data_obj_type': 'int64',\n",
       "  'ml_label': False,\n",
       "  'pipeline': 'num_pipe'},\n",
       " 'BsmtHalfBath': {'relevant': True,\n",
       "  'data_default_type': 'int64',\n",
       "  'data_obj_type': 'int64',\n",
       "  'ml_label': False,\n",
       "  'pipeline': 'num_pipe'},\n",
       " 'FullBath': {'relevant': True,\n",
       "  'data_default_type': 'int64',\n",
       "  'data_obj_type': 'int64',\n",
       "  'ml_label': False,\n",
       "  'pipeline': 'num_pipe'},\n",
       " 'HalfBath': {'relevant': True,\n",
       "  'data_default_type': 'int64',\n",
       "  'data_obj_type': 'int64',\n",
       "  'ml_label': False,\n",
       "  'pipeline': 'num_pipe'},\n",
       " 'BedroomAbvGr': {'relevant': True,\n",
       "  'data_default_type': 'int64',\n",
       "  'data_obj_type': 'int64',\n",
       "  'ml_label': False,\n",
       "  'pipeline': 'num_pipe'},\n",
       " 'KitchenAbvGr': {'relevant': True,\n",
       "  'data_default_type': 'int64',\n",
       "  'data_obj_type': 'int64',\n",
       "  'ml_label': False,\n",
       "  'pipeline': 'num_pipe'},\n",
       " 'KitchenQual': {'relevant': True,\n",
       "  'data_default_type': 'object',\n",
       "  'data_obj_type': 'category',\n",
       "  'ml_label': False,\n",
       "  'pipeline': 'cat_pipe'},\n",
       " 'TotRmsAbvGrd': {'relevant': True,\n",
       "  'data_default_type': 'int64',\n",
       "  'data_obj_type': 'int64',\n",
       "  'ml_label': False,\n",
       "  'pipeline': 'num_pipe'},\n",
       " 'Functional': {'relevant': True,\n",
       "  'data_default_type': 'object',\n",
       "  'data_obj_type': 'category',\n",
       "  'ml_label': False,\n",
       "  'pipeline': 'cat_pipe'},\n",
       " 'Fireplaces': {'relevant': True,\n",
       "  'data_default_type': 'int64',\n",
       "  'data_obj_type': 'int64',\n",
       "  'ml_label': False,\n",
       "  'pipeline': 'num_pipe'},\n",
       " 'FireplaceQu': {'relevant': False,\n",
       "  'data_default_type': 'object',\n",
       "  'data_obj_type': 'category',\n",
       "  'ml_label': False,\n",
       "  'pipeline': 'cat_pipe'},\n",
       " 'GarageType': {'relevant': False,\n",
       "  'data_default_type': 'object',\n",
       "  'data_obj_type': 'category',\n",
       "  'ml_label': False,\n",
       "  'pipeline': 'cat_pipe'},\n",
       " 'GarageYrBlt': {'relevant': False,\n",
       "  'data_default_type': 'float64',\n",
       "  'data_obj_type': 'float64',\n",
       "  'ml_label': False,\n",
       "  'pipeline': 'num_pipe'},\n",
       " 'GarageFinish': {'relevant': False,\n",
       "  'data_default_type': 'object',\n",
       "  'data_obj_type': 'category',\n",
       "  'ml_label': False,\n",
       "  'pipeline': 'cat_pipe'},\n",
       " 'GarageCars': {'relevant': True,\n",
       "  'data_default_type': 'int64',\n",
       "  'data_obj_type': 'int64',\n",
       "  'ml_label': False,\n",
       "  'pipeline': 'num_pipe'},\n",
       " 'GarageArea': {'relevant': True,\n",
       "  'data_default_type': 'int64',\n",
       "  'data_obj_type': 'int64',\n",
       "  'ml_label': False,\n",
       "  'pipeline': 'num_pipe'},\n",
       " 'GarageQual': {'relevant': False,\n",
       "  'data_default_type': 'object',\n",
       "  'data_obj_type': 'category',\n",
       "  'ml_label': False,\n",
       "  'pipeline': 'cat_pipe'},\n",
       " 'GarageCond': {'relevant': False,\n",
       "  'data_default_type': 'object',\n",
       "  'data_obj_type': 'category',\n",
       "  'ml_label': False,\n",
       "  'pipeline': 'cat_pipe'},\n",
       " 'PavedDrive': {'relevant': True,\n",
       "  'data_default_type': 'object',\n",
       "  'data_obj_type': 'category',\n",
       "  'ml_label': False,\n",
       "  'pipeline': 'cat_pipe'},\n",
       " 'WoodDeckSF': {'relevant': True,\n",
       "  'data_default_type': 'int64',\n",
       "  'data_obj_type': 'int64',\n",
       "  'ml_label': False,\n",
       "  'pipeline': 'num_pipe'},\n",
       " 'OpenPorchSF': {'relevant': True,\n",
       "  'data_default_type': 'int64',\n",
       "  'data_obj_type': 'int64',\n",
       "  'ml_label': False,\n",
       "  'pipeline': 'num_pipe'},\n",
       " 'EnclosedPorch': {'relevant': True,\n",
       "  'data_default_type': 'int64',\n",
       "  'data_obj_type': 'int64',\n",
       "  'ml_label': False,\n",
       "  'pipeline': 'num_pipe'},\n",
       " '3SsnPorch': {'relevant': True,\n",
       "  'data_default_type': 'int64',\n",
       "  'data_obj_type': 'int64',\n",
       "  'ml_label': False,\n",
       "  'pipeline': 'num_pipe'},\n",
       " 'ScreenPorch': {'relevant': True,\n",
       "  'data_default_type': 'int64',\n",
       "  'data_obj_type': 'int64',\n",
       "  'ml_label': False,\n",
       "  'pipeline': 'num_pipe'},\n",
       " 'PoolArea': {'relevant': True,\n",
       "  'data_default_type': 'int64',\n",
       "  'data_obj_type': 'int64',\n",
       "  'ml_label': False,\n",
       "  'pipeline': 'num_pipe'},\n",
       " 'PoolQC': {'relevant': False,\n",
       "  'data_default_type': 'object',\n",
       "  'data_obj_type': 'category',\n",
       "  'ml_label': False,\n",
       "  'pipeline': 'cat_pipe'},\n",
       " 'Fence': {'relevant': False,\n",
       "  'data_default_type': 'object',\n",
       "  'data_obj_type': 'category',\n",
       "  'ml_label': False,\n",
       "  'pipeline': 'cat_pipe'},\n",
       " 'MiscFeature': {'relevant': False,\n",
       "  'data_default_type': 'object',\n",
       "  'data_obj_type': 'category',\n",
       "  'ml_label': False,\n",
       "  'pipeline': 'cat_pipe'},\n",
       " 'MiscVal': {'relevant': True,\n",
       "  'data_default_type': 'int64',\n",
       "  'data_obj_type': 'int64',\n",
       "  'ml_label': False,\n",
       "  'pipeline': 'num_pipe'},\n",
       " 'MoSold': {'relevant': True,\n",
       "  'data_default_type': 'int64',\n",
       "  'data_obj_type': 'int64',\n",
       "  'ml_label': False,\n",
       "  'pipeline': 'num_pipe'},\n",
       " 'YrSold': {'relevant': True,\n",
       "  'data_default_type': 'int64',\n",
       "  'data_obj_type': 'int64',\n",
       "  'ml_label': False,\n",
       "  'pipeline': 'num_pipe'},\n",
       " 'SaleType': {'relevant': True,\n",
       "  'data_default_type': 'object',\n",
       "  'data_obj_type': 'category',\n",
       "  'ml_label': False,\n",
       "  'pipeline': 'cat_pipe'},\n",
       " 'SaleCondition': {'relevant': True,\n",
       "  'data_default_type': 'object',\n",
       "  'data_obj_type': 'category',\n",
       "  'ml_label': False,\n",
       "  'pipeline': 'cat_pipe'},\n",
       " 'SalePrice': {'relevant': False,\n",
       "  'data_default_type': 'int64',\n",
       "  'data_obj_type': 'int64',\n",
       "  'ml_label': True,\n",
       "  'pipeline': 'num_pipe'}}"
      ]
     },
     "execution_count": 17,
     "metadata": {},
     "output_type": "execute_result"
    }
   ],
   "source": [
    "features_dict"
   ]
  },
  {
   "cell_type": "code",
   "execution_count": 18,
   "metadata": {
    "ExecuteTime": {
     "end_time": "2021-03-02T18:28:51.321139Z",
     "start_time": "2021-03-02T18:28:51.276818Z"
    }
   },
   "outputs": [],
   "source": [
    "lx = [\"SalePrice\", \"OverallQual\",\n",
    "\"GrLivArea\",\n",
    "\"GarageCars\",\n",
    "\"GarageArea\",\n",
    "\"TotalBsmtSF\",\n",
    "\"1stFlrSF\",\n",
    "\"FullBath\",\n",
    "\"YearBuilt\",\n",
    "\"YearRemodAdd\",\n",
    "\"GarageYrBlt\",\n",
    "\"TotRmsAbvGrd\",\n",
    "\"Fireplaces\",\n",
    "\"MasVnrArea\",\n",
    "\"BsmtFinSF1\",\n",
    "\"LotFrontage\",\n",
    "\"WoodDeckSF\",\n",
    "\"OpenPorchSF\",\n",
    "\"2ndFlrSF\",\n",
    "\"HalfBath\"]\n",
    "\n",
    "for feat in features_dict:\n",
    "    if feat in lx:\n",
    "        features_dict[feat][\"relevant\"] = True\n",
    "    else:\n",
    "        features_dict[feat][\"relevant\"] = False"
   ]
  },
  {
   "cell_type": "code",
   "execution_count": 19,
   "metadata": {
    "ExecuteTime": {
     "end_time": "2021-03-02T18:28:52.255454Z",
     "start_time": "2021-03-02T18:28:52.197649Z"
    }
   },
   "outputs": [
    {
     "data": {
      "text/plain": [
       "{'Id': {'relevant': False,\n",
       "  'data_default_type': 'int64',\n",
       "  'data_obj_type': 'int64',\n",
       "  'ml_label': False,\n",
       "  'pipeline': 'num_pipe'},\n",
       " 'MSSubClass': {'relevant': False,\n",
       "  'data_default_type': 'int64',\n",
       "  'data_obj_type': 'int64',\n",
       "  'ml_label': False,\n",
       "  'pipeline': 'num_pipe'},\n",
       " 'MSZoning': {'relevant': False,\n",
       "  'data_default_type': 'object',\n",
       "  'data_obj_type': 'category',\n",
       "  'ml_label': False,\n",
       "  'pipeline': 'cat_pipe'},\n",
       " 'LotFrontage': {'relevant': True,\n",
       "  'data_default_type': 'float64',\n",
       "  'data_obj_type': 'float64',\n",
       "  'ml_label': False,\n",
       "  'pipeline': 'num_pipe'},\n",
       " 'LotArea': {'relevant': False,\n",
       "  'data_default_type': 'int64',\n",
       "  'data_obj_type': 'int64',\n",
       "  'ml_label': False,\n",
       "  'pipeline': 'num_pipe'},\n",
       " 'Street': {'relevant': False,\n",
       "  'data_default_type': 'object',\n",
       "  'data_obj_type': 'category',\n",
       "  'ml_label': False,\n",
       "  'pipeline': 'cat_pipe'},\n",
       " 'Alley': {'relevant': False,\n",
       "  'data_default_type': 'object',\n",
       "  'data_obj_type': 'category',\n",
       "  'ml_label': False,\n",
       "  'pipeline': 'cat_pipe'},\n",
       " 'LotShape': {'relevant': False,\n",
       "  'data_default_type': 'object',\n",
       "  'data_obj_type': 'category',\n",
       "  'ml_label': False,\n",
       "  'pipeline': 'cat_pipe'},\n",
       " 'LandContour': {'relevant': False,\n",
       "  'data_default_type': 'object',\n",
       "  'data_obj_type': 'category',\n",
       "  'ml_label': False,\n",
       "  'pipeline': 'cat_pipe'},\n",
       " 'Utilities': {'relevant': False,\n",
       "  'data_default_type': 'object',\n",
       "  'data_obj_type': 'category',\n",
       "  'ml_label': False,\n",
       "  'pipeline': 'cat_pipe'},\n",
       " 'LotConfig': {'relevant': False,\n",
       "  'data_default_type': 'object',\n",
       "  'data_obj_type': 'category',\n",
       "  'ml_label': False,\n",
       "  'pipeline': 'cat_pipe'},\n",
       " 'LandSlope': {'relevant': False,\n",
       "  'data_default_type': 'object',\n",
       "  'data_obj_type': 'category',\n",
       "  'ml_label': False,\n",
       "  'pipeline': 'cat_pipe'},\n",
       " 'Neighborhood': {'relevant': False,\n",
       "  'data_default_type': 'object',\n",
       "  'data_obj_type': 'category',\n",
       "  'ml_label': False,\n",
       "  'pipeline': 'cat_pipe'},\n",
       " 'Condition1': {'relevant': False,\n",
       "  'data_default_type': 'object',\n",
       "  'data_obj_type': 'category',\n",
       "  'ml_label': False,\n",
       "  'pipeline': 'cat_pipe'},\n",
       " 'Condition2': {'relevant': False,\n",
       "  'data_default_type': 'object',\n",
       "  'data_obj_type': 'category',\n",
       "  'ml_label': False,\n",
       "  'pipeline': 'cat_pipe'},\n",
       " 'BldgType': {'relevant': False,\n",
       "  'data_default_type': 'object',\n",
       "  'data_obj_type': 'category',\n",
       "  'ml_label': False,\n",
       "  'pipeline': 'cat_pipe'},\n",
       " 'HouseStyle': {'relevant': False,\n",
       "  'data_default_type': 'object',\n",
       "  'data_obj_type': 'category',\n",
       "  'ml_label': False,\n",
       "  'pipeline': 'cat_pipe'},\n",
       " 'OverallQual': {'relevant': True,\n",
       "  'data_default_type': 'int64',\n",
       "  'data_obj_type': 'int64',\n",
       "  'ml_label': False,\n",
       "  'pipeline': 'num_pipe'},\n",
       " 'OverallCond': {'relevant': False,\n",
       "  'data_default_type': 'int64',\n",
       "  'data_obj_type': 'int64',\n",
       "  'ml_label': False,\n",
       "  'pipeline': 'num_pipe'},\n",
       " 'YearBuilt': {'relevant': True,\n",
       "  'data_default_type': 'int64',\n",
       "  'data_obj_type': 'int64',\n",
       "  'ml_label': False,\n",
       "  'pipeline': 'num_pipe'},\n",
       " 'YearRemodAdd': {'relevant': True,\n",
       "  'data_default_type': 'int64',\n",
       "  'data_obj_type': 'int64',\n",
       "  'ml_label': False,\n",
       "  'pipeline': 'num_pipe'},\n",
       " 'RoofStyle': {'relevant': False,\n",
       "  'data_default_type': 'object',\n",
       "  'data_obj_type': 'category',\n",
       "  'ml_label': False,\n",
       "  'pipeline': 'cat_pipe'},\n",
       " 'RoofMatl': {'relevant': False,\n",
       "  'data_default_type': 'object',\n",
       "  'data_obj_type': 'category',\n",
       "  'ml_label': False,\n",
       "  'pipeline': 'cat_pipe'},\n",
       " 'Exterior1st': {'relevant': False,\n",
       "  'data_default_type': 'object',\n",
       "  'data_obj_type': 'category',\n",
       "  'ml_label': False,\n",
       "  'pipeline': 'cat_pipe'},\n",
       " 'Exterior2nd': {'relevant': False,\n",
       "  'data_default_type': 'object',\n",
       "  'data_obj_type': 'category',\n",
       "  'ml_label': False,\n",
       "  'pipeline': 'cat_pipe'},\n",
       " 'MasVnrType': {'relevant': False,\n",
       "  'data_default_type': 'object',\n",
       "  'data_obj_type': 'category',\n",
       "  'ml_label': False,\n",
       "  'pipeline': 'cat_pipe'},\n",
       " 'MasVnrArea': {'relevant': True,\n",
       "  'data_default_type': 'float64',\n",
       "  'data_obj_type': 'float64',\n",
       "  'ml_label': False,\n",
       "  'pipeline': 'num_pipe'},\n",
       " 'ExterQual': {'relevant': False,\n",
       "  'data_default_type': 'object',\n",
       "  'data_obj_type': 'category',\n",
       "  'ml_label': False,\n",
       "  'pipeline': 'cat_pipe'},\n",
       " 'ExterCond': {'relevant': False,\n",
       "  'data_default_type': 'object',\n",
       "  'data_obj_type': 'category',\n",
       "  'ml_label': False,\n",
       "  'pipeline': 'cat_pipe'},\n",
       " 'Foundation': {'relevant': False,\n",
       "  'data_default_type': 'object',\n",
       "  'data_obj_type': 'category',\n",
       "  'ml_label': False,\n",
       "  'pipeline': 'cat_pipe'},\n",
       " 'BsmtQual': {'relevant': False,\n",
       "  'data_default_type': 'object',\n",
       "  'data_obj_type': 'category',\n",
       "  'ml_label': False,\n",
       "  'pipeline': 'cat_pipe'},\n",
       " 'BsmtCond': {'relevant': False,\n",
       "  'data_default_type': 'object',\n",
       "  'data_obj_type': 'category',\n",
       "  'ml_label': False,\n",
       "  'pipeline': 'cat_pipe'},\n",
       " 'BsmtExposure': {'relevant': False,\n",
       "  'data_default_type': 'object',\n",
       "  'data_obj_type': 'category',\n",
       "  'ml_label': False,\n",
       "  'pipeline': 'cat_pipe'},\n",
       " 'BsmtFinType1': {'relevant': False,\n",
       "  'data_default_type': 'object',\n",
       "  'data_obj_type': 'category',\n",
       "  'ml_label': False,\n",
       "  'pipeline': 'cat_pipe'},\n",
       " 'BsmtFinSF1': {'relevant': True,\n",
       "  'data_default_type': 'int64',\n",
       "  'data_obj_type': 'int64',\n",
       "  'ml_label': False,\n",
       "  'pipeline': 'num_pipe'},\n",
       " 'BsmtFinType2': {'relevant': False,\n",
       "  'data_default_type': 'object',\n",
       "  'data_obj_type': 'category',\n",
       "  'ml_label': False,\n",
       "  'pipeline': 'cat_pipe'},\n",
       " 'BsmtFinSF2': {'relevant': False,\n",
       "  'data_default_type': 'int64',\n",
       "  'data_obj_type': 'int64',\n",
       "  'ml_label': False,\n",
       "  'pipeline': 'num_pipe'},\n",
       " 'BsmtUnfSF': {'relevant': False,\n",
       "  'data_default_type': 'int64',\n",
       "  'data_obj_type': 'int64',\n",
       "  'ml_label': False,\n",
       "  'pipeline': 'num_pipe'},\n",
       " 'TotalBsmtSF': {'relevant': True,\n",
       "  'data_default_type': 'int64',\n",
       "  'data_obj_type': 'int64',\n",
       "  'ml_label': False,\n",
       "  'pipeline': 'num_pipe'},\n",
       " 'Heating': {'relevant': False,\n",
       "  'data_default_type': 'object',\n",
       "  'data_obj_type': 'category',\n",
       "  'ml_label': False,\n",
       "  'pipeline': 'cat_pipe'},\n",
       " 'HeatingQC': {'relevant': False,\n",
       "  'data_default_type': 'object',\n",
       "  'data_obj_type': 'category',\n",
       "  'ml_label': False,\n",
       "  'pipeline': 'cat_pipe'},\n",
       " 'CentralAir': {'relevant': False,\n",
       "  'data_default_type': 'object',\n",
       "  'data_obj_type': 'category',\n",
       "  'ml_label': False,\n",
       "  'pipeline': 'cat_pipe'},\n",
       " 'Electrical': {'relevant': False,\n",
       "  'data_default_type': 'object',\n",
       "  'data_obj_type': 'category',\n",
       "  'ml_label': False,\n",
       "  'pipeline': 'cat_pipe'},\n",
       " '1stFlrSF': {'relevant': True,\n",
       "  'data_default_type': 'int64',\n",
       "  'data_obj_type': 'int64',\n",
       "  'ml_label': False,\n",
       "  'pipeline': 'num_pipe'},\n",
       " '2ndFlrSF': {'relevant': True,\n",
       "  'data_default_type': 'int64',\n",
       "  'data_obj_type': 'int64',\n",
       "  'ml_label': False,\n",
       "  'pipeline': 'num_pipe'},\n",
       " 'LowQualFinSF': {'relevant': False,\n",
       "  'data_default_type': 'int64',\n",
       "  'data_obj_type': 'int64',\n",
       "  'ml_label': False,\n",
       "  'pipeline': 'num_pipe'},\n",
       " 'GrLivArea': {'relevant': True,\n",
       "  'data_default_type': 'int64',\n",
       "  'data_obj_type': 'int64',\n",
       "  'ml_label': False,\n",
       "  'pipeline': 'num_pipe'},\n",
       " 'BsmtFullBath': {'relevant': False,\n",
       "  'data_default_type': 'int64',\n",
       "  'data_obj_type': 'int64',\n",
       "  'ml_label': False,\n",
       "  'pipeline': 'num_pipe'},\n",
       " 'BsmtHalfBath': {'relevant': False,\n",
       "  'data_default_type': 'int64',\n",
       "  'data_obj_type': 'int64',\n",
       "  'ml_label': False,\n",
       "  'pipeline': 'num_pipe'},\n",
       " 'FullBath': {'relevant': True,\n",
       "  'data_default_type': 'int64',\n",
       "  'data_obj_type': 'int64',\n",
       "  'ml_label': False,\n",
       "  'pipeline': 'num_pipe'},\n",
       " 'HalfBath': {'relevant': True,\n",
       "  'data_default_type': 'int64',\n",
       "  'data_obj_type': 'int64',\n",
       "  'ml_label': False,\n",
       "  'pipeline': 'num_pipe'},\n",
       " 'BedroomAbvGr': {'relevant': False,\n",
       "  'data_default_type': 'int64',\n",
       "  'data_obj_type': 'int64',\n",
       "  'ml_label': False,\n",
       "  'pipeline': 'num_pipe'},\n",
       " 'KitchenAbvGr': {'relevant': False,\n",
       "  'data_default_type': 'int64',\n",
       "  'data_obj_type': 'int64',\n",
       "  'ml_label': False,\n",
       "  'pipeline': 'num_pipe'},\n",
       " 'KitchenQual': {'relevant': False,\n",
       "  'data_default_type': 'object',\n",
       "  'data_obj_type': 'category',\n",
       "  'ml_label': False,\n",
       "  'pipeline': 'cat_pipe'},\n",
       " 'TotRmsAbvGrd': {'relevant': True,\n",
       "  'data_default_type': 'int64',\n",
       "  'data_obj_type': 'int64',\n",
       "  'ml_label': False,\n",
       "  'pipeline': 'num_pipe'},\n",
       " 'Functional': {'relevant': False,\n",
       "  'data_default_type': 'object',\n",
       "  'data_obj_type': 'category',\n",
       "  'ml_label': False,\n",
       "  'pipeline': 'cat_pipe'},\n",
       " 'Fireplaces': {'relevant': True,\n",
       "  'data_default_type': 'int64',\n",
       "  'data_obj_type': 'int64',\n",
       "  'ml_label': False,\n",
       "  'pipeline': 'num_pipe'},\n",
       " 'FireplaceQu': {'relevant': False,\n",
       "  'data_default_type': 'object',\n",
       "  'data_obj_type': 'category',\n",
       "  'ml_label': False,\n",
       "  'pipeline': 'cat_pipe'},\n",
       " 'GarageType': {'relevant': False,\n",
       "  'data_default_type': 'object',\n",
       "  'data_obj_type': 'category',\n",
       "  'ml_label': False,\n",
       "  'pipeline': 'cat_pipe'},\n",
       " 'GarageYrBlt': {'relevant': True,\n",
       "  'data_default_type': 'float64',\n",
       "  'data_obj_type': 'float64',\n",
       "  'ml_label': False,\n",
       "  'pipeline': 'num_pipe'},\n",
       " 'GarageFinish': {'relevant': False,\n",
       "  'data_default_type': 'object',\n",
       "  'data_obj_type': 'category',\n",
       "  'ml_label': False,\n",
       "  'pipeline': 'cat_pipe'},\n",
       " 'GarageCars': {'relevant': True,\n",
       "  'data_default_type': 'int64',\n",
       "  'data_obj_type': 'int64',\n",
       "  'ml_label': False,\n",
       "  'pipeline': 'num_pipe'},\n",
       " 'GarageArea': {'relevant': True,\n",
       "  'data_default_type': 'int64',\n",
       "  'data_obj_type': 'int64',\n",
       "  'ml_label': False,\n",
       "  'pipeline': 'num_pipe'},\n",
       " 'GarageQual': {'relevant': False,\n",
       "  'data_default_type': 'object',\n",
       "  'data_obj_type': 'category',\n",
       "  'ml_label': False,\n",
       "  'pipeline': 'cat_pipe'},\n",
       " 'GarageCond': {'relevant': False,\n",
       "  'data_default_type': 'object',\n",
       "  'data_obj_type': 'category',\n",
       "  'ml_label': False,\n",
       "  'pipeline': 'cat_pipe'},\n",
       " 'PavedDrive': {'relevant': False,\n",
       "  'data_default_type': 'object',\n",
       "  'data_obj_type': 'category',\n",
       "  'ml_label': False,\n",
       "  'pipeline': 'cat_pipe'},\n",
       " 'WoodDeckSF': {'relevant': True,\n",
       "  'data_default_type': 'int64',\n",
       "  'data_obj_type': 'int64',\n",
       "  'ml_label': False,\n",
       "  'pipeline': 'num_pipe'},\n",
       " 'OpenPorchSF': {'relevant': True,\n",
       "  'data_default_type': 'int64',\n",
       "  'data_obj_type': 'int64',\n",
       "  'ml_label': False,\n",
       "  'pipeline': 'num_pipe'},\n",
       " 'EnclosedPorch': {'relevant': False,\n",
       "  'data_default_type': 'int64',\n",
       "  'data_obj_type': 'int64',\n",
       "  'ml_label': False,\n",
       "  'pipeline': 'num_pipe'},\n",
       " '3SsnPorch': {'relevant': False,\n",
       "  'data_default_type': 'int64',\n",
       "  'data_obj_type': 'int64',\n",
       "  'ml_label': False,\n",
       "  'pipeline': 'num_pipe'},\n",
       " 'ScreenPorch': {'relevant': False,\n",
       "  'data_default_type': 'int64',\n",
       "  'data_obj_type': 'int64',\n",
       "  'ml_label': False,\n",
       "  'pipeline': 'num_pipe'},\n",
       " 'PoolArea': {'relevant': False,\n",
       "  'data_default_type': 'int64',\n",
       "  'data_obj_type': 'int64',\n",
       "  'ml_label': False,\n",
       "  'pipeline': 'num_pipe'},\n",
       " 'PoolQC': {'relevant': False,\n",
       "  'data_default_type': 'object',\n",
       "  'data_obj_type': 'category',\n",
       "  'ml_label': False,\n",
       "  'pipeline': 'cat_pipe'},\n",
       " 'Fence': {'relevant': False,\n",
       "  'data_default_type': 'object',\n",
       "  'data_obj_type': 'category',\n",
       "  'ml_label': False,\n",
       "  'pipeline': 'cat_pipe'},\n",
       " 'MiscFeature': {'relevant': False,\n",
       "  'data_default_type': 'object',\n",
       "  'data_obj_type': 'category',\n",
       "  'ml_label': False,\n",
       "  'pipeline': 'cat_pipe'},\n",
       " 'MiscVal': {'relevant': False,\n",
       "  'data_default_type': 'int64',\n",
       "  'data_obj_type': 'int64',\n",
       "  'ml_label': False,\n",
       "  'pipeline': 'num_pipe'},\n",
       " 'MoSold': {'relevant': False,\n",
       "  'data_default_type': 'int64',\n",
       "  'data_obj_type': 'int64',\n",
       "  'ml_label': False,\n",
       "  'pipeline': 'num_pipe'},\n",
       " 'YrSold': {'relevant': False,\n",
       "  'data_default_type': 'int64',\n",
       "  'data_obj_type': 'int64',\n",
       "  'ml_label': False,\n",
       "  'pipeline': 'num_pipe'},\n",
       " 'SaleType': {'relevant': False,\n",
       "  'data_default_type': 'object',\n",
       "  'data_obj_type': 'category',\n",
       "  'ml_label': False,\n",
       "  'pipeline': 'cat_pipe'},\n",
       " 'SaleCondition': {'relevant': False,\n",
       "  'data_default_type': 'object',\n",
       "  'data_obj_type': 'category',\n",
       "  'ml_label': False,\n",
       "  'pipeline': 'cat_pipe'},\n",
       " 'SalePrice': {'relevant': True,\n",
       "  'data_default_type': 'int64',\n",
       "  'data_obj_type': 'int64',\n",
       "  'ml_label': True,\n",
       "  'pipeline': 'num_pipe'}}"
      ]
     },
     "execution_count": 19,
     "metadata": {},
     "output_type": "execute_result"
    }
   ],
   "source": [
    "features_dict"
   ]
  },
  {
   "cell_type": "code",
   "execution_count": 21,
   "metadata": {
    "ExecuteTime": {
     "end_time": "2021-03-02T18:29:38.387050Z",
     "start_time": "2021-03-02T18:29:38.340294Z"
    }
   },
   "outputs": [
    {
     "data": {
      "text/plain": [
       "20"
      ]
     },
     "execution_count": 21,
     "metadata": {},
     "output_type": "execute_result"
    }
   ],
   "source": [
    "len([feat for feat in features_dict if features_dict[feat][\"relevant\"] == True])"
   ]
  },
  {
   "cell_type": "raw",
   "metadata": {
    "ExecuteTime": {
     "end_time": "2021-03-02T01:11:03.019751Z",
     "start_time": "2021-03-02T01:11:02.973973Z"
    }
   },
   "source": [
    "set([features_dict[key][\"data_obj_type\"] for key in features_dict])"
   ]
  },
  {
   "cell_type": "raw",
   "metadata": {},
   "source": [
    "l_fd = [key for key in features_dict if features_dict[key][\"\"]]\n",
    "l_fd"
   ]
  },
  {
   "cell_type": "raw",
   "metadata": {
    "ExecuteTime": {
     "end_time": "2021-03-02T00:48:49.273696Z",
     "start_time": "2021-03-02T00:48:49.197732Z"
    }
   },
   "source": [
    "train_data"
   ]
  },
  {
   "cell_type": "raw",
   "metadata": {
    "ExecuteTime": {
     "end_time": "2021-03-02T01:19:51.730471Z",
     "start_time": "2021-03-02T01:19:51.686121Z"
    }
   },
   "source": [
    "train_data[\"MSSubClass\"].mode()[0]"
   ]
  },
  {
   "cell_type": "raw",
   "metadata": {
    "ExecuteTime": {
     "end_time": "2021-03-02T00:54:29.630772Z",
     "start_time": "2021-03-02T00:54:29.571889Z"
    }
   },
   "source": [
    "l_df = list(train_data.select_dtypes(include=\"int64\").columns)\n",
    "l_df"
   ]
  },
  {
   "cell_type": "markdown",
   "metadata": {},
   "source": [
    "#### Playing with features dictionary"
   ]
  },
  {
   "cell_type": "raw",
   "metadata": {
    "ExecuteTime": {
     "end_time": "2021-03-01T00:39:14.779805Z",
     "start_time": "2021-03-01T00:39:14.681345Z"
    }
   },
   "source": [
    "col = \"MSZoning\"\n",
    "\n",
    "print(list(housingc_test[col].unique()))\n",
    "\n",
    "print(list(housingc[col].unique()))"
   ]
  },
  {
   "cell_type": "raw",
   "metadata": {
    "ExecuteTime": {
     "end_time": "2021-03-01T00:12:13.610210Z",
     "start_time": "2021-03-01T00:12:13.527500Z"
    }
   },
   "source": [
    "train_data.shape"
   ]
  },
  {
   "cell_type": "raw",
   "metadata": {
    "ExecuteTime": {
     "end_time": "2021-03-01T00:12:52.498146Z",
     "start_time": "2021-03-01T00:12:52.405199Z"
    }
   },
   "source": [
    "mr1 = test_data[\"TotalBsmtSF\"].isnull()\n",
    "\n",
    "test_data.loc[(mr1), :]"
   ]
  },
  {
   "cell_type": "raw",
   "metadata": {
    "ExecuteTime": {
     "end_time": "2021-03-01T00:14:51.232264Z",
     "start_time": "2021-03-01T00:14:51.155442Z"
    }
   },
   "source": [
    "test_data[\"TotalBsmtSF\"].fillna(0)"
   ]
  },
  {
   "cell_type": "raw",
   "metadata": {
    "ExecuteTime": {
     "end_time": "2021-03-01T00:09:34.985143Z",
     "start_time": "2021-03-01T00:09:34.633587Z"
    }
   },
   "source": [
    "[key for key in features_dict if (features_dict[key][\"data_obj_type\"]==\"int64\") & (features_dict[key][\"relevant\"]==True)]"
   ]
  },
  {
   "cell_type": "raw",
   "metadata": {
    "ExecuteTime": {
     "end_time": "2021-03-02T01:43:07.173198Z",
     "start_time": "2021-03-02T01:43:07.124868Z"
    }
   },
   "source": [
    "for key in features_dict:\n",
    "    if features_dict[key][\"data_obj_type\"] == \"category\":\n",
    "        features_dict[key][\"pipeline\"] = \"cat_pipe\"\n",
    "    else:\n",
    "        features_dict[key][\"pipeline\"] = \"num_pipe\""
   ]
  },
  {
   "cell_type": "raw",
   "metadata": {
    "ExecuteTime": {
     "end_time": "2021-03-02T01:43:30.966406Z",
     "start_time": "2021-03-02T01:43:30.918045Z"
    }
   },
   "source": [
    "print(json.dumps(features_dict, indent=4, ensure_ascii=False).encode(\"utf8\").decode())"
   ]
  },
  {
   "cell_type": "raw",
   "metadata": {
    "ExecuteTime": {
     "end_time": "2021-03-02T01:43:07.772777Z",
     "start_time": "2021-03-02T01:43:07.714454Z"
    }
   },
   "source": [
    "features_dict"
   ]
  },
  {
   "cell_type": "raw",
   "metadata": {
    "ExecuteTime": {
     "end_time": "2021-02-28T21:46:38.214792Z",
     "start_time": "2021-02-28T21:46:38.156838Z"
    }
   },
   "source": [
    "print(json.dumps({val: features_dict[val] for val in features_dict}, indent=4, ensure_ascii=False).encode(\"utf8\").decode())"
   ]
  },
  {
   "cell_type": "markdown",
   "metadata": {},
   "source": [
    "---"
   ]
  }
 ],
 "metadata": {
  "celltoolbar": "Initialization Cell",
  "kernelspec": {
   "display_name": "Python 3",
   "language": "python",
   "name": "python3"
  },
  "language_info": {
   "codemirror_mode": {
    "name": "ipython",
    "version": 3
   },
   "file_extension": ".py",
   "mimetype": "text/x-python",
   "name": "python",
   "nbconvert_exporter": "python",
   "pygments_lexer": "ipython3",
   "version": "3.8.5"
  },
  "toc": {
   "base_numbering": 1,
   "nav_menu": {},
   "number_sections": true,
   "sideBar": true,
   "skip_h1_title": false,
   "title_cell": "Table of Contents",
   "title_sidebar": "Contents",
   "toc_cell": false,
   "toc_position": {},
   "toc_section_display": true,
   "toc_window_display": false
  }
 },
 "nbformat": 4,
 "nbformat_minor": 2
}
